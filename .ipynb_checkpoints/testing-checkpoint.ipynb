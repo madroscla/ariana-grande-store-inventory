{
 "cells": [
  {
   "cell_type": "code",
   "execution_count": 3,
   "id": "62b5647f-93d9-4c70-997a-10126b8e9848",
   "metadata": {},
   "outputs": [],
   "source": [
    "import json\n",
    "import re\n",
    "import requests\n",
    "\n",
    "import pandas as pd\n",
    "from parsel import Selector"
   ]
  },
  {
   "cell_type": "code",
   "execution_count": 149,
   "id": "71504598-54be-4da0-972f-8d4a6955f26f",
   "metadata": {},
   "outputs": [],
   "source": [
    "products_url = 'https://shop.arianagrande.com/products.json'\n",
    "base_url = 'https://shop.arianagrande.com/products/'\n",
    "\n",
    "products = requests.get(products_url).json()['products']\n",
    "\n",
    "\n",
    "\n",
    "product_id = [item['id'] for item in products]\n",
    "product_title = [item['title'] for item in products]\n",
    "product_url = [base_url + item['handle'] for item in products]\n",
    "product_created_at = [item['created_at'] for item in products]\n",
    "product_published_at = [item['published_at'] for item in products]\n",
    "product_updated_at = [item['updated_at'] for item in products]\n",
    "product_type = [item['product_type'] for item in products]\n",
    "product_tags = [item['tags'] for item in products]\n",
    "product_variants = [item['variants'] for item in products]"
   ]
  },
  {
   "cell_type": "code",
   "execution_count": 150,
   "id": "598d773e-d7bc-41c1-af13-920fe7252a7a",
   "metadata": {},
   "outputs": [
    {
     "name": "stdout",
     "output_type": "stream",
     "text": [
      "[[40953971310615, 'S'], [40953971245079, 'Default Title'], [40953970982935, 'S'], [40953970786327, 'S'], [10648115347513, 'S'], [40923540160535, 'Default Title'], [40908896731159, 'Default Title'], [40903568850967, 'S'], [40903568719895, 'S'], [40903568490519, 'S'], [40903567474711, 'S'], [40856163155991, 'Default Title'], [40848614490135, 'Default Title'], [40848614457367, 'Default Title'], [40848614391831, 'Default Title'], [40848614326295, 'Default Title'], [40848614260759, 'Default Title'], [40848614064151, 'Default Title'], [40848613998615, 'Default Title'], [40848613965847, 'Default Title'], [40840960507927, 'Default Title'], [40840960475159, 'Default Title'], [40840960245783, 'S'], [40840960016407, 'S'], [40840959787031, 'S'], [40840959754263, 'Default Title'], [40840959524887, 'S'], [40840959328279, 'S'], [40840959098903, 'S'], [40837218500631, 'Default Title']]\n"
     ]
    }
   ],
   "source": [
    "print(variant_details)"
   ]
  },
  {
   "cell_type": "code",
   "execution_count": 151,
   "id": "510eeff7-902e-4fc9-94df-50bb7e5ccc19",
   "metadata": {},
   "outputs": [
    {
     "ename": "TypeError",
     "evalue": "list indices must be integers or slices, not str",
     "output_type": "error",
     "traceback": [
      "\u001b[1;31m---------------------------------------------------------------------------\u001b[0m",
      "\u001b[1;31mTypeError\u001b[0m                                 Traceback (most recent call last)",
      "Cell \u001b[1;32mIn[151], line 9\u001b[0m\n\u001b[0;32m      7\u001b[0m raw_variants \u001b[38;5;241m=\u001b[39m script[script\u001b[38;5;241m.\u001b[39mfind(\u001b[38;5;124m'\u001b[39m\u001b[38;5;124m[\u001b[39m\u001b[38;5;130;01m\\n\u001b[39;00m\u001b[38;5;124m  \u001b[39m\u001b[38;5;130;01m\\n\u001b[39;00m\u001b[38;5;124m    \u001b[39m\u001b[38;5;124m{\u001b[39m\u001b[38;5;130;01m\\n\u001b[39;00m\u001b[38;5;124m      \u001b[39m\u001b[38;5;124m\"\u001b[39m\u001b[38;5;124mfixed_date\u001b[39m\u001b[38;5;124m\"\u001b[39m\u001b[38;5;124m'\u001b[39m):script\u001b[38;5;241m.\u001b[39mfind(\u001b[38;5;124m'''\u001b[39m\u001b[38;5;124m,\u001b[39m\u001b[38;5;130;01m\\n\u001b[39;00m\u001b[38;5;124m  \u001b[39m\u001b[38;5;124m\"\u001b[39m\u001b[38;5;124mcollections\u001b[39m\u001b[38;5;124m\"\u001b[39m\u001b[38;5;124m'''\u001b[39m)]\n\u001b[0;32m      8\u001b[0m variants \u001b[38;5;241m=\u001b[39m json\u001b[38;5;241m.\u001b[39mloads(raw_variants)\n\u001b[1;32m----> 9\u001b[0m test \u001b[38;5;241m=\u001b[39m [\u001b[43mvariants\u001b[49m\u001b[43m[\u001b[49m\u001b[38;5;124;43m'\u001b[39;49m\u001b[38;5;124;43mid\u001b[39;49m\u001b[38;5;124;43m'\u001b[39;49m\u001b[43m]\u001b[49m, variants[\u001b[38;5;124m'\u001b[39m\u001b[38;5;124mtitle\u001b[39m\u001b[38;5;124m'\u001b[39m], variants[\u001b[38;5;124m'\u001b[39m\u001b[38;5;124minventory_quantity\u001b[39m\u001b[38;5;124m'\u001b[39m]]\n",
      "\u001b[1;31mTypeError\u001b[0m: list indices must be integers or slices, not str"
     ]
    }
   ],
   "source": [
    "url = 'https://shop.arianagrande.com/products/eternal-sunshine-close-up-t-shirt'\n",
    "\n",
    "item_page = requests.get(url).text\n",
    "selector = Selector(text=item_page)\n",
    "\n",
    "script = selector.xpath('//head/script[@type=\"text/javascript\"]/text()').get()\n",
    "raw_variants = script[script.find('[\\n  \\n    {\\n      \"fixed_date\"'):script.find(''',\\n  \"collections\"''')]\n",
    "variants = json.loads(raw_variants)\n"
   ]
  },
  {
   "cell_type": "code",
   "execution_count": null,
   "id": "c790b858-a1f4-454f-adda-bf96e237a241",
   "metadata": {},
   "outputs": [],
   "source": []
  },
  {
   "cell_type": "code",
   "execution_count": 138,
   "id": "4245247a-11a9-4df0-a914-96bb2ed440ee",
   "metadata": {},
   "outputs": [
    {
     "ename": "TypeError",
     "evalue": "'int' object is not iterable",
     "output_type": "error",
     "traceback": [
      "\u001b[1;31m---------------------------------------------------------------------------\u001b[0m",
      "\u001b[1;31mTypeError\u001b[0m                                 Traceback (most recent call last)",
      "Cell \u001b[1;32mIn[138], line 4\u001b[0m\n\u001b[0;32m      1\u001b[0m list1 \u001b[38;5;241m=\u001b[39m [(\u001b[38;5;241m1\u001b[39m, \u001b[38;5;241m2\u001b[39m), (\u001b[38;5;241m1\u001b[39m), (\u001b[38;5;241m1\u001b[39m, \u001b[38;5;241m2\u001b[39m, \u001b[38;5;241m3\u001b[39m, \u001b[38;5;241m4\u001b[39m)]\n\u001b[0;32m      2\u001b[0m list2 \u001b[38;5;241m=\u001b[39m [(\u001b[38;5;241m5\u001b[39m), (\u001b[38;5;241m5\u001b[39m), (\u001b[38;5;241m5\u001b[39m)]\n\u001b[1;32m----> 4\u001b[0m list3 \u001b[38;5;241m=\u001b[39m [\u001b[38;5;28mtuple\u001b[39m(x) \u001b[38;5;241m+\u001b[39m \u001b[38;5;28;43mtuple\u001b[39;49m\u001b[43m(\u001b[49m\u001b[43my\u001b[49m\u001b[43m)\u001b[49m \u001b[38;5;28;01mfor\u001b[39;00m x, y \u001b[38;5;129;01min\u001b[39;00m \u001b[38;5;28mzip\u001b[39m(list1, list2)]\n\u001b[0;32m      6\u001b[0m \u001b[38;5;28mprint\u001b[39m(list3)\n",
      "\u001b[1;31mTypeError\u001b[0m: 'int' object is not iterable"
     ]
    }
   ],
   "source": [
    "list1 = [[1, 2], [1], [1, 2, 3, 4]\n",
    "list2 = [[5], [5], \n",
    "\n",
    "print (list(zip(list1, list2)))"
   ]
  },
  {
   "cell_type": "code",
   "execution_count": null,
   "id": "546972b3-f922-4e22-bdaa-a4c5aae6d10b",
   "metadata": {},
   "outputs": [],
   "source": []
  }
 ],
 "metadata": {
  "kernelspec": {
   "display_name": "Python 3 (ipykernel)",
   "language": "python",
   "name": "python3"
  },
  "language_info": {
   "codemirror_mode": {
    "name": "ipython",
    "version": 3
   },
   "file_extension": ".py",
   "mimetype": "text/x-python",
   "name": "python",
   "nbconvert_exporter": "python",
   "pygments_lexer": "ipython3",
   "version": "3.12.2"
  }
 },
 "nbformat": 4,
 "nbformat_minor": 5
}
