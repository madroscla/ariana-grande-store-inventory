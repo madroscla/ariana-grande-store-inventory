{
 "cells": [
  {
   "cell_type": "code",
   "execution_count": 3,
   "id": "62b5647f-93d9-4c70-997a-10126b8e9848",
   "metadata": {},
   "outputs": [],
   "source": [
    "import json\n",
    "import re\n",
    "import requests\n",
    "\n",
    "import pandas as pd\n",
    "from parsel import Selector"
   ]
  },
  {
   "cell_type": "code",
   "execution_count": 40,
   "id": "71504598-54be-4da0-972f-8d4a6955f26f",
   "metadata": {},
   "outputs": [],
   "source": [
    "products_url = 'https://shop.arianagrande.com/products.json'\n",
    "base_url = 'https://shop.arianagrande.com/products/'\n",
    "\n",
    "products = requests.get(products_url).json()['products']\n",
    "\n",
    "\n",
    "\n",
    "product_id = [item['id'] for item in products]\n",
    "product_title = [item['title'] for item in products]\n",
    "product_url = [base_url + item['handle'] for item in products]\n",
    "product_created_at = [item['created_at'] for item in products]\n",
    "product_published_at = [item['published_at'] for item in products]\n",
    "product_updated_at = [item['updated_at'] for item in products]\n",
    "product_type = [item['product_type'] for item in products]\n",
    "product_tags = [item['tags'] for item in products]\n",
    "product_variants = [item['variants'] for item in products]\n"
   ]
  },
  {
   "cell_type": "code",
   "execution_count": 106,
   "id": "510eeff7-902e-4fc9-94df-50bb7e5ccc19",
   "metadata": {},
   "outputs": [],
   "source": [
    "url = 'https://shop.arianagrande.com/products/eternal-sunshine-exclusive-cover-no-4-lp'\n",
    "\n",
    "item_page = requests.get(url).text\n",
    "selector = Selector(text=item_page)\n",
    "\n",
    "script = selector.xpath('//head/script[@type=\"text/javascript\"]/text()').get()\n",
    "raw_variants = script[script.find('[\\n  \\n    {\\n      \"fixed_date\"'):script.find(''',\\n  \"collections\"''')]\n",
    "variants = json.loads(raw_variants)"
   ]
  },
  {
   "cell_type": "code",
   "execution_count": 111,
   "id": "e2668be0-9739-414e-9267-a613c26f41a4",
   "metadata": {},
   "outputs": [
    {
     "ename": "TypeError",
     "evalue": "list indices must be integers or slices, not tuple",
     "output_type": "error",
     "traceback": [
      "\u001b[1;31m---------------------------------------------------------------------------\u001b[0m",
      "\u001b[1;31mTypeError\u001b[0m                                 Traceback (most recent call last)",
      "Cell \u001b[1;32mIn[111], line 1\u001b[0m\n\u001b[1;32m----> 1\u001b[0m \u001b[38;5;28mprint\u001b[39m(\u001b[43mvariants\u001b[49m\u001b[43m[\u001b[49m\u001b[38;5;124;43m'\u001b[39;49m\u001b[38;5;124;43mfixed_date\u001b[39;49m\u001b[38;5;124;43m'\u001b[39;49m\u001b[43m,\u001b[49m\u001b[43m \u001b[49m\u001b[38;5;124;43m'\u001b[39;49m\u001b[38;5;124;43mid\u001b[39;49m\u001b[38;5;124;43m'\u001b[39;49m\u001b[43m]\u001b[49m)\n",
      "\u001b[1;31mTypeError\u001b[0m: list indices must be integers or slices, not tuple"
     ]
    }
   ],
   "source": []
  },
  {
   "cell_type": "code",
   "execution_count": null,
   "id": "c790b858-a1f4-454f-adda-bf96e237a241",
   "metadata": {},
   "outputs": [],
   "source": []
  },
  {
   "cell_type": "code",
   "execution_count": 110,
   "id": "4245247a-11a9-4df0-a914-96bb2ed440ee",
   "metadata": {},
   "outputs": [
    {
     "name": "stdout",
     "output_type": "stream",
     "text": [
      "[(1, 3), (2, 4)]\n"
     ]
    }
   ],
   "source": [
    "list1 = [1, 2]\n",
    "list2 = [3, 4]\n",
    "\n",
    "print (list(zip(list1, list2)))"
   ]
  },
  {
   "cell_type": "code",
   "execution_count": null,
   "id": "546972b3-f922-4e22-bdaa-a4c5aae6d10b",
   "metadata": {},
   "outputs": [],
   "source": []
  }
 ],
 "metadata": {
  "kernelspec": {
   "display_name": "Python 3 (ipykernel)",
   "language": "python",
   "name": "python3"
  },
  "language_info": {
   "codemirror_mode": {
    "name": "ipython",
    "version": 3
   },
   "file_extension": ".py",
   "mimetype": "text/x-python",
   "name": "python",
   "nbconvert_exporter": "python",
   "pygments_lexer": "ipython3",
   "version": "3.12.2"
  }
 },
 "nbformat": 4,
 "nbformat_minor": 5
}
